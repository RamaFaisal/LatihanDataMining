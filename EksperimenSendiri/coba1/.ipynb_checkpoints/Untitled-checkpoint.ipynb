{
 "cells": [
  {
   "cell_type": "code",
   "execution_count": null,
   "id": "5ad87f99-cba7-4c4f-a938-d55f497c0b3d",
   "metadata": {},
   "outputs": [],
   "source": [
    "import pandas as pd\n",
    "import numpy as np\n",
    "from sklearn.model_selection import train_test_split\n",
    "from sklearn.neighbors import KNeighborsClassifier\n",
    "from sklearn.metrics import accuracy_score, confusion_matrix, classification_report"
   ]
  },
  {
   "cell_type": "code",
   "execution_count": null,
   "id": "068a4169-3814-4bed-88f1-005ac181cf29",
   "metadata": {},
   "outputs": [],
   "source": [
    "# Memuat dataset\n",
    "dataset = 'heart.csv'\n",
    "heart_data = pd.read_csv(dataset)"
   ]
  },
  {
   "cell_type": "code",
   "execution_count": null,
   "id": "2bbdc34d-6560-4481-b068-4a07cb22b9a1",
   "metadata": {},
   "outputs": [],
   "source": [
    "# Melihat beberapa baris pertama dari dataset\n",
    "print(heart_data.head())\n",
    "\n",
    "# Memeriksa nilai yang hilang\n",
    "print(heart_data.isnull().sum())"
   ]
  },
  {
   "cell_type": "code",
   "execution_count": null,
   "id": "c3c34265-0f51-4321-a058-109d4a94a901",
   "metadata": {},
   "outputs": [],
   "source": []
  }
 ],
 "metadata": {
  "kernelspec": {
   "display_name": "Python 3 (ipykernel)",
   "language": "python",
   "name": "python3"
  },
  "language_info": {
   "codemirror_mode": {
    "name": "ipython",
    "version": 3
   },
   "file_extension": ".py",
   "mimetype": "text/x-python",
   "name": "python",
   "nbconvert_exporter": "python",
   "pygments_lexer": "ipython3",
   "version": "3.12.4"
  }
 },
 "nbformat": 4,
 "nbformat_minor": 5
}
